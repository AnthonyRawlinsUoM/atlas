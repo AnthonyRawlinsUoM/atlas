{
 "cells": [
  {
   "cell_type": "markdown",
   "metadata": {},
   "source": [
    "# Color mappings for Atlas\n",
    "### 255 colors"
   ]
  },
  {
   "cell_type": "code",
   "execution_count": 27,
   "metadata": {},
   "outputs": [],
   "source": [
    "from pylab import *\n",
    "import json\n",
    "\n",
    "cmaps = {}\n",
    "levels = 256\n",
    "index = {}\n",
    "index['Perceptually Uniform Sequential']={}\n",
    "cmaps['Perceptually Uniform Sequential'] = ['viridis', 'plasma', 'inferno', 'magma', 'cividis']\n",
    "\n",
    "for _cmap in cmaps['Perceptually Uniform Sequential']:\n",
    "    cmap = cm.get_cmap('viridis', 256)\n",
    "    stepsize = 1/255\n",
    "\n",
    "    col = [{\"index\":i, \"hex\": matplotlib.colors.rgb2hex(cmap(i)[:3]), \"rgba\": 'rgba'+str(matplotlib.colors.to_rgba(cmap(i)[:3]))} for i in range(cmap.N)]\n",
    "    fname = 'cmaps/pu/cmap_'+_cmap+'_255.json'\n",
    "    index['Perceptually Uniform Sequential'][_cmap] = fname\n",
    "#     with open(fname, 'w') as f:\n",
    "#         f.write(json.dumps(col, indent=4))\n",
    "#         print('Wrote: %s' % fname)"
   ]
  },
  {
   "cell_type": "code",
   "execution_count": 28,
   "metadata": {},
   "outputs": [],
   "source": [
    "index['Sequential']={}\n",
    "cmaps['Sequential'] = ['Greys', 'Purples', 'Blues', 'Greens', 'Oranges', 'Reds',\n",
    "            'YlOrBr', 'YlOrRd', 'OrRd', 'PuRd', 'RdPu', 'BuPu',\n",
    "            'GnBu', 'PuBu', 'YlGnBu', 'PuBuGn', 'BuGn', 'YlGn']\n",
    "\n",
    "for _cmap in cmaps['Sequential']:\n",
    "    cmap = cm.get_cmap('viridis', 256)\n",
    "    stepsize = 1/255\n",
    "\n",
    "    col = [{\"index\":i, \"hex\": matplotlib.colors.rgb2hex(cmap(i)[:3]), \"rgba\": 'rgba'+str(matplotlib.colors.to_rgba(cmap(i)[:3]))} for i in range(cmap.N)]\n",
    "    fname = 'cmaps/seq/cmap_'+_cmap+'_255.json'\n",
    "    index['Sequential'][_cmap] = fname\n",
    "#     with open(fname, 'w') as f:\n",
    "#         f.write(json.dumps(col, indent=4))\n",
    "#         print('Wrote: %s' % fname)"
   ]
  },
  {
   "cell_type": "code",
   "execution_count": 31,
   "metadata": {},
   "outputs": [],
   "source": [
    "with open('cmaps_index.json', 'w') as f:\n",
    "    f.write(json.dumps(index, sort_keys=True, indent=4))"
   ]
  },
  {
   "cell_type": "code",
   "execution_count": null,
   "metadata": {},
   "outputs": [],
   "source": []
  }
 ],
 "metadata": {
  "kernelspec": {
   "display_name": "Python 3",
   "language": "python",
   "name": "python3"
  },
  "language_info": {
   "codemirror_mode": {
    "name": "ipython",
    "version": 3
   },
   "file_extension": ".py",
   "mimetype": "text/x-python",
   "name": "python",
   "nbconvert_exporter": "python",
   "pygments_lexer": "ipython3",
   "version": "3.7.3"
  }
 },
 "nbformat": 4,
 "nbformat_minor": 2
}
