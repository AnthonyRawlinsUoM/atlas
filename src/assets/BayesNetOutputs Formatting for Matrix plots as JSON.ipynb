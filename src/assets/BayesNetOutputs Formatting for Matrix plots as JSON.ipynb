{
 "cells": [
  {
   "cell_type": "code",
   "execution_count": 6,
   "metadata": {},
   "outputs": [],
   "source": [
    "from glob import glob as glob\n",
    "from pathlib import Path\n",
    "from sklearn import preprocessing\n",
    "\n",
    "csvs = glob('./BayesNetOutputs/Absolute/*_Matrix.csv')"
   ]
  },
  {
   "cell_type": "code",
   "execution_count": 10,
   "metadata": {},
   "outputs": [
    {
     "data": {
      "text/plain": [
       "['./BayesNetOutputs/Absolute/VIC_LD_Matrix.csv',\n",
       " './BayesNetOutputs/Absolute/VIC_Matrix.csv',\n",
       " './BayesNetOutputs/Absolute/TAS_Matrix.csv',\n",
       " './BayesNetOutputs/Absolute/NSW_SWS_Matrix.csv',\n",
       " './BayesNetOutputs/Absolute/ACT_Matrix.csv',\n",
       " './BayesNetOutputs/Absolute/BM_Matrix.csv',\n",
       " './BayesNetOutputs/Absolute/NSW_SEC_Matrix.csv',\n",
       " './BayesNetOutputs/Absolute/QLD_Matrix.csv',\n",
       " './BayesNetOutputs/Absolute/SA_Matrix.csv',\n",
       " './BayesNetOutputs/Absolute/NSW_NAN_Matrix.csv',\n",
       " './BayesNetOutputs/Absolute/NSW_BHILL_Matrix.csv']"
      ]
     },
     "execution_count": 10,
     "metadata": {},
     "output_type": "execute_result"
    }
   ],
   "source": [
    "csvs"
   ]
  },
  {
   "cell_type": "markdown",
   "metadata": {},
   "source": [
    "name"
   ]
  },
  {
   "cell_type": "code",
   "execution_count": 73,
   "metadata": {},
   "outputs": [
    {
     "name": "stdout",
     "output_type": "stream",
     "text": [
      "Wrote: BayesNetOutputs/VIC_LD_normalised.csv\n",
      "Wrote: BayesNetOutputs/VIC_normalised.csv\n",
      "Wrote: BayesNetOutputs/TAS_normalised.csv\n",
      "Wrote: BayesNetOutputs/NSW_SWS_normalised.csv\n",
      "Wrote: BayesNetOutputs/ACT_normalised.csv\n",
      "Wrote: BayesNetOutputs/BM_normalised.csv\n",
      "Wrote: BayesNetOutputs/NSW_SEC_normalised.csv\n",
      "Wrote: BayesNetOutputs/QLD_normalised.csv\n",
      "Wrote: BayesNetOutputs/SA_normalised.csv\n",
      "Wrote: BayesNetOutputs/NSW_NAN_normalised.csv\n",
      "Wrote: BayesNetOutputs/NSW_BHILL_normalised.csv\n"
     ]
    }
   ],
   "source": [
    "for i in csvs:\n",
    "    df = pd.read_csv(i)\n",
    "    df.drop(['Unnamed: 0'], axis=1, inplace=True)\n",
    "    name = df['region'][0]\n",
    "    cols = df.columns.to_list()\n",
    "    cols.remove('Edge_Treatment')\n",
    "    cols.remove('Landscape_Treatment')\n",
    "    cols.remove('region')\n",
    "    \n",
    "    x = df[cols].values #returns a numpy array\n",
    "    min_max_scaler = preprocessing.MinMaxScaler()\n",
    "    x_scaled = min_max_scaler.fit_transform(x)\n",
    "    df = pd.DataFrame(x_scaled, columns=cols)\n",
    "    fname = 'BayesNetOutputs/'+ name + '_normalised.csv'\n",
    "    df.to_csv(fname)\n",
    "    print('Wrote: %s' % fname)"
   ]
  }
 ],
 "metadata": {
  "kernelspec": {
   "display_name": "Python 3",
   "language": "python",
   "name": "python3"
  },
  "language_info": {
   "codemirror_mode": {
    "name": "ipython",
    "version": 3
   },
   "file_extension": ".py",
   "mimetype": "text/x-python",
   "name": "python",
   "nbconvert_exporter": "python",
   "pygments_lexer": "ipython3",
   "version": "3.6.8"
  }
 },
 "nbformat": 4,
 "nbformat_minor": 2
}
